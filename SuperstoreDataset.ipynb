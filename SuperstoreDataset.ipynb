{
 "cells": [
  {
   "cell_type": "code",
   "execution_count": null,
   "id": "837aa4b6",
   "metadata": {
    "scrolled": false
   },
   "outputs": [],
   "source": [
    "import pandas as pd\n",
    "import matplotlib.pyplot as plt\n",
    "%matplotlib inline\n",
    "df = pd.read_excel('Sample - Superstore.xls' ,sheet_name='Orders')\n",
    "#Loading Your Data\n",
    "df"
   ]
  },
  {
   "cell_type": "code",
   "execution_count": null,
   "id": "c4d4f53a",
   "metadata": {
    "scrolled": true
   },
   "outputs": [],
   "source": [
    "#Describing Your Data\n",
    "df[['Product ID','Profit','Discount' ]].describe()"
   ]
  },
  {
   "cell_type": "code",
   "execution_count": null,
   "id": "38b2f22d",
   "metadata": {},
   "outputs": [],
   "source": [
    "#List to Columns\n",
    "df.columns.to_list()"
   ]
  },
  {
   "cell_type": "raw",
   "id": "5bac4d8f",
   "metadata": {},
   "source": [
    "Profit, Loss and Overview"
   ]
  },
  {
   "cell_type": "code",
   "execution_count": null,
   "id": "b19b5ae6",
   "metadata": {
    "scrolled": false
   },
   "outputs": [],
   "source": [
    "superstore  = df[['Row ID',\n",
    " 'Order ID',\n",
    " 'Order Date',\n",
    " 'Ship Date',\n",
    " 'Ship Mode',\n",
    " 'Customer ID',\n",
    " 'Customer Name','Country',\n",
    " 'City','Product Name',\n",
    " 'Sales','Quantity',\n",
    " 'Discount',\n",
    " 'Profit']]\n",
    "\n",
    "profit = superstore[superstore['Profit'] >=0]['Profit'].sum()\n",
    "print('Profit :' + str(profit))\n",
    "Loss = superstore[superstore['Profit'] <=0]['Profit'].sum()\n",
    "print('Loss :' + str(Loss))\n",
    "Neat = profit -  Loss\n",
    "print('Neat :' + str(Neat))\n",
    "print('Total Percentage of Loss : ')\n",
    "print((abs(Loss)/Neat)*100)\n",
    "print('Percentage Gained Profit : ')\n",
    "print((abs(profit)/Neat)*100)\n",
    "superstore"
   ]
  },
  {
   "cell_type": "code",
   "execution_count": null,
   "id": "f6c32ed1",
   "metadata": {
    "scrolled": false
   },
   "outputs": [],
   "source": [
    "#50 Most Profits\n",
    "s = superstore.groupby(by=['Customer Name']).sum()\n",
    "profit_df = s\n",
    "profit_df['Total Discount'] = profit_df['Discount']*profit_df['Profit']/100\n",
    "profit_df.nlargest(50, 'Profit')[['Sales','Quantity','Profit','Total Discount']]"
   ]
  },
  {
   "cell_type": "code",
   "execution_count": null,
   "id": "1ea2a080",
   "metadata": {
    "scrolled": true
   },
   "outputs": [],
   "source": [
    "profit_df['Total Discount'] = abs(profit_df['Discount']*profit_df['Profit']/100)\n",
    "profit_df.nsmallest(50, 'Profit')"
   ]
  },
  {
   "cell_type": "code",
   "execution_count": null,
   "id": "e880b76a",
   "metadata": {
    "scrolled": false
   },
   "outputs": [],
   "source": [
    "#Top 20 customers\n",
    "Customer  = profit_df.groupby(['Customer Name']).sum().sort_values(by='Profit', ascending=False)\n",
    "Customer.nlargest(20, 'Profit')"
   ]
  },
  {
   "cell_type": "code",
   "execution_count": null,
   "id": "3db2c774",
   "metadata": {
    "scrolled": true
   },
   "outputs": [],
   "source": [
    "#50 Most Loses Customer\n",
    "Customer.nsmallest(50, 'Profit')"
   ]
  },
  {
   "cell_type": "code",
   "execution_count": null,
   "id": "fc69e961",
   "metadata": {},
   "outputs": [],
   "source": []
  }
 ],
 "metadata": {
  "kernelspec": {
   "display_name": "Python 3",
   "language": "python",
   "name": "python3"
  },
  "language_info": {
   "codemirror_mode": {
    "name": "ipython",
    "version": 3
   },
   "file_extension": ".py",
   "mimetype": "text/x-python",
   "name": "python",
   "nbconvert_exporter": "python",
   "pygments_lexer": "ipython3",
   "version": "3.9.5"
  }
 },
 "nbformat": 4,
 "nbformat_minor": 5
}
